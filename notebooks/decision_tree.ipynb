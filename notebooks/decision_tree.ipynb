{
 "cells": [
  {
   "cell_type": "code",
   "execution_count": null,
   "metadata": {},
   "outputs": [],
   "source": [
    "import sys\n",
    "import os\n",
    "import pandas as pd\n",
    "from sklearn.model_selection import train_test_split\n",
    "from sklearn.tree import DecisionTreeClassifier\n",
    "from sklearn.model_selection import RandomizedSearchCV, cross_val_score, StratifiedKFold\n",
    "from dotenv import load_dotenv\n",
    "import dask\n",
    "from dask.dataframe import from_pandas\n",
    "from dask.distributed import Client\n",
    "import dask.distributed\n",
    "import joblib\n",
    "\n",
    "src_path = os.path.abspath(os.path.join('..'))\n",
    "if src_path not in sys.path:\n",
    "    sys.path.append(src_path)\n",
    "\n",
    "from src.utils.constants import *\n",
    "from src.utils.utils import *\n",
    "from src.visualization.visualize import *"
   ]
  },
  {
   "cell_type": "code",
   "execution_count": null,
   "metadata": {},
   "outputs": [],
   "source": [
    "Client(n_workers=4, threads_per_worker=2, memory_limit='2GB')"
   ]
  },
  {
   "cell_type": "code",
   "execution_count": null,
   "metadata": {},
   "outputs": [],
   "source": [
    "ground_truth = pd.read_parquet(GROUND_TRUTH_PATH)\n",
    "ground_truth = ground_truth[['origin_time', 'label']]"
   ]
  },
  {
   "cell_type": "code",
   "execution_count": null,
   "metadata": {},
   "outputs": [],
   "source": [
    "imported_data = {}\n",
    "\n",
    "for exchange in EXCHANGES:\n",
    "    imported_data[(CANDLES, exchange)] = pd.read_parquet(os.path.join(INTERIM_DATA_PATH, f'{exchange}_{CANDLES}_pca_data.parquet'))\n",
    "    imported_data[(ORDERBOOKS, exchange)] = pd.read_parquet(os.path.join(INTERIM_DATA_PATH, f'{exchange}_{ORDERBOOKS}_pca_data.parquet'))"
   ]
  },
  {
   "cell_type": "code",
   "execution_count": null,
   "metadata": {},
   "outputs": [],
   "source": [
    "merged_df = {}\n",
    "cols_to_drop = ['origin_time', 'label']\n",
    "\n",
    "for (data_type, exchange), df in imported_data.items():     \n",
    "    merged_df[(data_type, exchange)] = {}\n",
    "    merged_df[(data_type, exchange)]['full'] = pd.merge(ground_truth[cols_to_drop], df, on='origin_time', how='inner')\n",
    "    merged_df[(data_type, exchange)]['X'] = merged_df[(data_type, exchange)]['full'].drop(cols_to_drop, axis=1)\n",
    "    merged_df[(data_type, exchange)]['y'] = merged_df[(data_type, exchange)]['full']['label']"
   ]
  },
  {
   "cell_type": "code",
   "execution_count": null,
   "metadata": {},
   "outputs": [],
   "source": [
    "# @dask.delayed\n",
    "def process_dataset(param_distributions, df):\n",
    "    X_train, X_test, y_train, y_test = train_test_split(df['X'], df['y'], test_size=TEST_SIZE, random_state=RANDOM_STATE)\n",
    "\n",
    "    # Nested Cross-Validation: Uses an outer loop for model evaluation and an inner loop for hyperparameter tuning.\n",
    "    outer_cv = StratifiedKFold(n_splits=5, shuffle=True, random_state=RANDOM_STATE)\n",
    "    inner_cv = StratifiedKFold(n_splits=3, shuffle=True, random_state=RANDOM_STATE)\n",
    "    \n",
    "    # Initialize the base classifier\n",
    "    clf = DecisionTreeClassifier(random_state=RANDOM_STATE)\n",
    "    \n",
    "    # Initialize the RandomizedSearchCV object\n",
    "    randomized_search = RandomizedSearchCV(estimator=clf, param_distributions=param_distributions, n_iter=50, cv=inner_cv, scoring='accuracy', n_jobs=-1, random_state=RANDOM_STATE)\n",
    "\n",
    "    with joblib.parallel_backend('dask'):\n",
    "    # Perform nested cross-validation\n",
    "        nested_scores = cross_val_score(randomized_search, df['X'], df['y'], cv=outer_cv, scoring='accuracy')\n",
    "        \n",
    "        # Fit the random search to the training data\n",
    "        randomized_search.fit(X_train, y_train)\n",
    "\n",
    "    # Best parameters and score from RandomizedSearchCV\n",
    "    best_params = randomized_search.best_params_\n",
    "    best_score = randomized_search.best_score_\n",
    "    best_clf = randomized_search.best_estimator_\n",
    "\n",
    "    # Predict on the test set using the best estimator\n",
    "    y_pred = best_clf.predict(X_test)\n",
    "\n",
    "    # Evaluate the model\n",
    "    evaluation = get_evaluation(y_test, y_pred)\n",
    "\n",
    "    # Collect learning curve data\n",
    "    train_scores = []\n",
    "    test_scores = []\n",
    "    depths = param_distributions['max_depth']\n",
    "\n",
    "    with joblib.parallel_backend('dask'):\n",
    "        # Gather learning curve data\n",
    "        for depth in depths:\n",
    "            model = DecisionTreeClassifier(\n",
    "                criterion=best_params['criterion'],\n",
    "                random_state=RANDOM_STATE, \n",
    "                max_depth=depth,\n",
    "                min_samples_split=best_params['min_samples_split'], \n",
    "                min_samples_leaf=best_params['min_samples_leaf'],\n",
    "                max_leaf_nodes=best_params.get('max_leaf_nodes', None),\n",
    "                min_impurity_decrease=best_params.get('min_impurity_decrease', 0.0)\n",
    "            )\n",
    "            \n",
    "            # Cross-validation on the training data\n",
    "            train_cv_results = cross_val_score(model, X_train, y_train, cv=inner_cv, scoring='accuracy')\n",
    "            train_scores.append(train_cv_results.mean())\n",
    "            \n",
    "            # Evaluate on the test set\n",
    "            model.fit(X_train, y_train)\n",
    "            test_score = model.score(X_test, y_test)\n",
    "            test_scores.append(test_score)\n",
    "\n",
    "    return {\n",
    "        'best_params': best_params,\n",
    "        'best_score': best_score,\n",
    "        'nested_scores': nested_scores,\n",
    "        'evaluation': evaluation,\n",
    "        'train_scores': train_scores,\n",
    "        'test_scores': test_scores,\n",
    "        'depths': depths\n",
    "    }"
   ]
  },
  {
   "cell_type": "code",
   "execution_count": null,
   "metadata": {},
   "outputs": [],
   "source": [
    "param_distributions = {\n",
    "    'criterion': ['gini', 'entropy'],\n",
    "    'max_depth': range(1, 20),\n",
    "    'min_samples_split': [2, 5, 10, 20, 50],\n",
    "    'min_samples_leaf': [5, 10, 20, 30, 50],\n",
    "    'max_leaf_nodes': [10, 20, 50, 100],\n",
    "    'min_impurity_decrease': [0.0, 0.01, 0.05, 0.1],\n",
    "    'ccp_alpha': [0.0, 0.01, 0.02, 0.05, 0.1]\n",
    "}"
   ]
  },
  {
   "cell_type": "code",
   "execution_count": null,
   "metadata": {},
   "outputs": [],
   "source": [
    "# tasks = [process_dataset(data_type, exchange, param_distributions, df) for (data_type, exchange), df in data.items()]\n",
    "# futures = client.compute(tasks)\n",
    "# results = client.gather(futures)"
   ]
  },
  {
   "cell_type": "code",
   "execution_count": null,
   "metadata": {},
   "outputs": [],
   "source": [
    "# for (data_type, exchange), result in zip(data.keys(), results):\n",
    "#     print(f\"Best parameters for {exchange} {data_type}: {result['best_params']}\")\n",
    "#     print(f'{exchange} {data_type} Nested CV Accuracy: {result[\"nested_scores\"].mean():.2f}')\n",
    "#     print(f'{exchange} {data_type} Test Set Accuracy: {result[\"evaluation\"][\"accuracy\"]:.2f}')\n",
    "#     print(f'{exchange} {data_type} Classification Report:')\n",
    "#     display(result['evaluation']['classification_report'])\n",
    "#     print(f'{exchange} {data_type} Confusion Matrix:')\n",
    "#     display(result['evaluation']['confusion_matrix'])\n",
    "\n",
    "#     plot_tree_learning_curves(exchange, data_type, result['depths'], result['train_scores'], result['test_scores'], 'decision_tree')\n",
    "\n",
    "#     pd.DataFrame.to_pickle(result, os.path.join(PROCESSED_DATA_PATH, f'{exchange}_{data_type}_decision_tree_results.pkl'))"
   ]
  },
  {
   "cell_type": "code",
   "execution_count": null,
   "metadata": {},
   "outputs": [],
   "source": [
    "for (data_type, exchange), df in merged_df.items():\n",
    "    ddf = from_pandas(merged_df, npartitions=1)\n",
    "    result = process_dataset(param_distributions, ddf)\n",
    "    print(f\"Results for {exchange} {data_type}:\")\n",
    "    print(f\"Best parameters: {result['best_params']}\")\n",
    "    print(f'Nested CV Accuracy: {result[\"nested_scores\"].mean():.2f}')\n",
    "    print(f'Accuracy: {result[\"evaluation\"][\"accuracy\"]:.2f}')\n",
    "    print(f'Classification Report:')\n",
    "    display(result['evaluation']['classification_report'])\n",
    "    print(f'Confusion Matrix:')\n",
    "    display(result['evaluation']['confusion_matrix'])\n",
    "    plot_tree_learning_curves(exchange, data_type, result['depths'], result['train_scores'], result['test_scores'], 'decision_tree')\n",
    "    pd.DataFrame.to_pickle(result, os.path.join(PROCESSED_DATA_PATH, f'{exchange}_{data_type}_decision_tree_results.pkl'))"
   ]
  }
 ],
 "metadata": {
  "kernelspec": {
   "display_name": "venv",
   "language": "python",
   "name": "python3"
  },
  "language_info": {
   "codemirror_mode": {
    "name": "ipython",
    "version": 3
   },
   "file_extension": ".py",
   "mimetype": "text/x-python",
   "name": "python",
   "nbconvert_exporter": "python",
   "pygments_lexer": "ipython3",
   "version": "3.12.3"
  },
  "orig_nbformat": 4
 },
 "nbformat": 4,
 "nbformat_minor": 2
}
