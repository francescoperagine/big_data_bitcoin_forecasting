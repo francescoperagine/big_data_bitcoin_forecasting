{
 "cells": [
  {
   "cell_type": "code",
   "execution_count": null,
   "metadata": {},
   "outputs": [],
   "source": [
    "import sys\n",
    "import os\n",
    "import pandas as pd\n",
    "from sklearn.model_selection import train_test_split\n",
    "from sklearn.tree import DecisionTreeClassifier\n",
    "from sklearn.metrics import accuracy_score, classification_report, confusion_matrix\n",
    "from sklearn.model_selection import RandomizedSearchCV, cross_val_score\n",
    "from dotenv import load_dotenv\n",
    "import dask\n",
    "from dask.distributed import Client, LocalCluster\n",
    "\n",
    "src_path = os.path.abspath(os.path.join('..'))\n",
    "if src_path not in sys.path:\n",
    "    sys.path.append(src_path)\n",
    "\n",
    "from src.utils.constants import *\n",
    "from src.visualization.visualize import *"
   ]
  },
  {
   "cell_type": "code",
   "execution_count": null,
   "metadata": {},
   "outputs": [],
   "source": [
    "load_dotenv()\n",
    "ip = os.getenv(\"DISTRIBUTED_MAIN_IP\")\n",
    "cluster = LocalCluster(n_workers=4)\n",
    "client = Client(cluster)"
   ]
  },
  {
   "cell_type": "code",
   "execution_count": null,
   "metadata": {},
   "outputs": [],
   "source": [
    "ground_truth = pd.read_parquet(GROUND_TRUTH_PATH)\n",
    "gt_to_merge = ground_truth.copy()\n",
    "ground_truth = ground_truth[['origin_time', 'label']]"
   ]
  },
  {
   "cell_type": "code",
   "execution_count": null,
   "metadata": {},
   "outputs": [],
   "source": [
    "imported_data = {}\n",
    "\n",
    "for exchange in EXCHANGES:\n",
    "  \n",
    "    imported_data[(CANDLES, exchange)] = pd.read_parquet(os.path.join(INTERIM_DATA_PATH, f'{exchange}_{CANDLES}_pca_data.parquet'))\n",
    "    imported_data[(ORDERBOOKS, exchange)] = pd.read_parquet(os.path.join(INTERIM_DATA_PATH, f'{exchange}_{ORDERBOOKS}_pca_data.parquet'))"
   ]
  },
  {
   "cell_type": "code",
   "execution_count": null,
   "metadata": {},
   "outputs": [],
   "source": [
    "for(exchange, data_type), df in imported_data.items():\n",
    "    print(f'{exchange} {data_type}: {df.shape}')"
   ]
  },
  {
   "cell_type": "code",
   "execution_count": null,
   "metadata": {},
   "outputs": [],
   "source": [
    "merged_df = {}\n",
    "cols_to_drop = ['origin_time', 'label']\n",
    "\n",
    "for (data_type, exchange), df in imported_data.items():     \n",
    "    merged_df[(data_type, exchange)] = {}\n",
    "    merged_df[(data_type, exchange)]['full'] = pd.merge(ground_truth[cols_to_drop], df, on='origin_time', how='inner')\n",
    "    merged_df[(data_type, exchange)]['X'] = merged_df[(data_type, exchange)]['full'].drop(cols_to_drop, axis=1)\n",
    "    merged_df[(data_type, exchange)]['y'] = merged_df[(data_type, exchange)]['full']['label']"
   ]
  },
  {
   "cell_type": "code",
   "execution_count": null,
   "metadata": {},
   "outputs": [],
   "source": [
    "data = {}\n",
    "\n",
    "for (data_type, exchange), df in merged_df.items():\n",
    "    data[(data_type, exchange)] = {}\n",
    "    data[(data_type, exchange)]['X_train'], data[(data_type, exchange)]['X_test'], data[(data_type, exchange)]['y_train'], data[(data_type, exchange)]['y_test'] = train_test_split(df['X'], df['y'], test_size=TEST_SIZE, random_state=RANDOM_STATE)"
   ]
  },
  {
   "cell_type": "code",
   "execution_count": null,
   "metadata": {},
   "outputs": [],
   "source": [
    "# for (data_type, exchange), df in data.items():\n",
    "#     print(f\"Category counts for {exchange} {data_type}:\")\n",
    "#     category_counts = df['y_train'].value_counts()\n",
    "#     display(category_counts)"
   ]
  },
  {
   "cell_type": "code",
   "execution_count": null,
   "metadata": {},
   "outputs": [],
   "source": [
    "best_params = {}\n",
    "best_score = {}\n",
    "evaluation = {}\n",
    "\n",
    "param_distributions = {\n",
    "    'criterion': [RANDOM_FOREST_CRITERION],\n",
    "    'max_depth': range(1, 20),\n",
    "    'min_samples_split': [10, 20, 50, 100],\n",
    "    'min_samples_leaf': [10, 20, 30, 50],\n",
    "    'max_leaf_nodes': [None, 10, 20, 50, 100],\n",
    "    'min_impurity_decrease': [0.0, 0.01, 0.05, 0.1]\n",
    "}"
   ]
  },
  {
   "cell_type": "code",
   "execution_count": null,
   "metadata": {},
   "outputs": [],
   "source": [
    "@dask.delayed\n",
    "def process_dataset(data_type, exchange, df):\n",
    "    clf = DecisionTreeClassifier(random_state=42)\n",
    "\n",
    "    # Initialize the RandomizedSearchCV object\n",
    "    randomized_search = RandomizedSearchCV(estimator=clf, param_distributions=param_distributions, n_iter=50, cv=CV_FOLDS, scoring='accuracy', n_jobs=-1, random_state=42)\n",
    "\n",
    "    # Fit the random search to the data\n",
    "    randomized_search.fit(df['X_train'], df['y_train'])\n",
    "\n",
    "    # Best parameters and score\n",
    "    best_params[(data_type, exchange)] = randomized_search.best_params_\n",
    "    best_score[(data_type, exchange)] = randomized_search.best_score_\n",
    "    print(f\"Best parameters for {exchange} {data_type}: {best_params[(data_type, exchange)]}\")\n",
    "\n",
    "    # Use the best estimator found by RandomizedSearchCV\n",
    "    best_clf = randomized_search.best_estimator_\n",
    "\n",
    "    # Predict on the test set\n",
    "    df['y_pred'] = best_clf.predict(df['X_test'])\n",
    "\n",
    "    evaluation[(data_type, exchange)] = {}\n",
    "\n",
    "    # Calculate accuracy\n",
    "    evaluation[(data_type, exchange)]['accuracy'] = accuracy_score(df['y_test'], df['y_pred'])\n",
    "\n",
    "    # Convert classification report to DataFrame\n",
    "    report = classification_report(df['y_test'], df['y_pred'], target_names=['positive', 'neutral', 'negative'], digits=2, output_dict=True)\n",
    "    evaluation[(data_type, exchange)]['classification_report'] = pd.DataFrame(report).transpose()\n",
    "\n",
    "    # Convert confusion matrix to DataFrame\n",
    "    evaluation[(data_type, exchange)]['confusion_matrix'] = pd.DataFrame(\n",
    "        confusion_matrix(df['y_test'], df['y_pred']),\n",
    "        index=['true:positive', 'true:neutral', 'true:negative'],\n",
    "        columns=['pred:positive', 'pred:neutral', 'pred:negative']\n",
    "    )\n",
    "\n",
    "    # Display results\n",
    "    print(f'{exchange} {data_type} Accuracy: {evaluation[(data_type, exchange)][\"accuracy\"]:.2f}')\n",
    "    print(f'{exchange} {data_type} Classification Report:')\n",
    "    display(evaluation[(data_type, exchange)]['classification_report'])\n",
    "    print(f'{exchange} {data_type} Confusion Matrix:')\n",
    "    display(evaluation[(data_type, exchange)]['confusion_matrix'])    \n",
    "\n",
    "    # Calculate cross-validated train and test scores for plotting learning curves\n",
    "    train_scores = []\n",
    "    test_scores = []\n",
    "    depths = param_distributions['max_depth']\n",
    "    print(randomized_search.cv_results_.keys())\n",
    "\n",
    "    for depth in depths:\n",
    "        model = DecisionTreeClassifier(\n",
    "            criterion=RANDOM_FOREST_CRITERION,\n",
    "            random_state=42, \n",
    "            max_depth=depth,\n",
    "            min_samples_split=best_params[(data_type, exchange)]['min_samples_split'], \n",
    "            min_samples_leaf=best_params[(data_type, exchange)]['min_samples_leaf'],\n",
    "            max_leaf_nodes=best_params[(data_type, exchange)]['max_leaf_nodes'],\n",
    "            min_impurity_decrease=best_params[(data_type, exchange)]['min_impurity_decrease']\n",
    "        )\n",
    "        cv_results = cross_val_score(model, df['X_train'], df['y_train'], cv=CV_FOLDS, scoring='accuracy')\n",
    "        print(cv_results)\n",
    "        train_scores.append(cv_results['train_score'].mean())\n",
    "        test_scores.append(cv_results['test_score'].mean())\n",
    "\n",
    "    plot_tree_learning_curves(exchange, data_type, depths, train_scores, test_scores, 'decision_tree')"
   ]
  },
  {
   "cell_type": "code",
   "execution_count": null,
   "metadata": {},
   "outputs": [],
   "source": [
    "tasks = [client.submit(process_dataset(data_type, exchange, df)) for (data_type, exchange), df in data.items()]\n",
    "results = client.gather(tasks)"
   ]
  },
  {
   "cell_type": "code",
   "execution_count": null,
   "metadata": {},
   "outputs": [],
   "source": [
    "pd.DataFrame.to_pickle(evaluation, os.path.join(PROCESSED_DATA_PATH, f'decision_tree_evaluation.pkl'))\n",
    "pd.DataFrame.to_pickle(best_params, os.path.join(PROCESSED_DATA_PATH, f'decision_tree_best_params.pkl'))\n",
    "pd.DataFrame.to_pickle(best_score, os.path.join(PROCESSED_DATA_PATH, f'decision_tree_best_score.pkl'))"
   ]
  }
 ],
 "metadata": {
  "kernelspec": {
   "display_name": "venv",
   "language": "python",
   "name": "python3"
  },
  "language_info": {
   "codemirror_mode": {
    "name": "ipython",
    "version": 3
   },
   "file_extension": ".py",
   "mimetype": "text/x-python",
   "name": "python",
   "nbconvert_exporter": "python",
   "pygments_lexer": "ipython3",
   "version": "3.12.3"
  },
  "orig_nbformat": 4
 },
 "nbformat": 4,
 "nbformat_minor": 2
}
